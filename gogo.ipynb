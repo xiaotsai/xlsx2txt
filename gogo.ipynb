{
 "cells": [
  {
   "cell_type": "code",
   "execution_count": null,
   "metadata": {},
   "outputs": [],
   "source": [
    "import pandas as pd\n",
    "import os\n",
    "\n",
    "filename =[]\n",
    "\n",
    "for files in os.walk(\"./\"):\n",
    "    for i in list(files):\n",
    "        for j in i:\n",
    "            if j.endswith(\".xlsx\"):\n",
    "                filename.append(j)\n",
    "                \n",
    "   \n",
    "\n",
    "for file in filename:\n",
    "    file0 = file.split('.')[0]\n",
    "    try:\n",
    "        pd.read_excel(file, sheet_name=\"New Today\",usecols=[\"Hidden Service\", \"Title\"]).to_csv(file0+\".txt\",sep='\\t',index=False)\n",
    "    except: \n",
    "        pd.read_excel(file, sheet_name=\"New Today\").to_csv(file0+\".txt\",sep='\\t',index=False)\n",
    "    try:\n",
    "        pd.read_excel(file, sheet_name=\"Up\",usecols=[\"Hidden Service\", \"Title\"]).to_csv(file0+\".txt\",mode='a',sep='\\t',index=False)\n",
    "    except:\n",
    "         pd.read_excel(file, sheet_name=\"Up\").to_csv(file0+\".txt\",mode='a',sep='\\t',index=False)\n",
    "\n",
    "\n",
    "\n"
   ]
  }
 ],
 "metadata": {
  "kernelspec": {
   "display_name": "Python 3.11.0 64-bit",
   "language": "python",
   "name": "python3"
  },
  "language_info": {
   "name": "python",
   "version": "3.11.0"
  },
  "orig_nbformat": 4,
  "vscode": {
   "interpreter": {
    "hash": "200266a8cbabad1439b534aa5a2a96441a6f6a6fc1224daf4f395a530df94027"
   }
  }
 },
 "nbformat": 4,
 "nbformat_minor": 2
}
